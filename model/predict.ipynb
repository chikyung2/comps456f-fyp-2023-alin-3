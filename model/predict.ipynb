{
 "cells": [
  {
   "cell_type": "code",
   "execution_count": 1,
   "metadata": {},
   "outputs": [
    {
     "name": "stdout",
     "output_type": "stream",
     "text": [
      "\n",
      "Downloading https://www3.nhk.or.jp/nhkworld/en/ondemand/video/2032277/images/p8CnOm63fVgJ1HyPLChgQrYVX5YsXtnyQPD71qVm.jpeg to 'p8CnOm63fVgJ1HyPLChgQrYVX5YsXtnyQPD71qVm.jpeg'...\n"
     ]
    },
    {
     "name": "stderr",
     "output_type": "stream",
     "text": [
      "100%|██████████| 221k/221k [00:00<00:00, 5.84MB/s]\n"
     ]
    },
    {
     "name": "stdout",
     "output_type": "stream",
     "text": [
      "image 1/1 d:\\Project\\comps456f\\fyp\\model\\p8CnOm63fVgJ1HyPLChgQrYVX5YsXtnyQPD71qVm.jpeg: 64x64 cardboard 0.80, metal 0.12, paper 0.03, trash 0.02, glass 0.02, 11.1ms\n",
      "Speed: 10.6ms preprocess, 11.1ms inference, 0.0ms postprocess per image at shape (1, 3, 64, 64)\n",
      "ultralytics.engine.results.Probs object with attributes:\n",
      "\n",
      "data: tensor([8.0248e-01, 1.5958e-02, 1.2357e-01, 3.2708e-02, 4.8613e-04, 2.4797e-02], device='cuda:0')\n",
      "orig_shape: None\n",
      "shape: torch.Size([6])\n",
      "top1: 0\n",
      "top1conf: tensor(0.8025, device='cuda:0')\n",
      "top5: [0, 2, 3, 5, 1]\n",
      "top5conf: tensor([0.8025, 0.1236, 0.0327, 0.0248, 0.0160], device='cuda:0')\n"
     ]
    }
   ],
   "source": [
    "from ultralytics import YOLO\n",
    "\n",
    "model = YOLO(r'D:\\Project\\comps456f\\runs\\classify\\train3\\weights\\best.pt')  # load a custom model\n",
    "\n",
    "# metrics = model.val()  # no arguments needed, dataset and settings remembered\n",
    "\n",
    "results = model('https://www3.nhk.or.jp/nhkworld/en/ondemand/video/2032277/images/p8CnOm63fVgJ1HyPLChgQrYVX5YsXtnyQPD71qVm.jpeg')  # predict on an image\n",
    "\n",
    "names_dict=results[0].names\n",
    "\n",
    "probs=results[0].probs\n",
    "print(probs)\n",
    "\n",
    "top1_class=names_dict[probs.top1]\n",
    "top1_score=probs.top1conf\n",
    "\n",
    "with open('results.txt', 'w') as f:\n",
    "    f.write(f\"Class: {top1_class}, Confidence: {top1_score}\\n\")"
   ]
  }
 ],
 "metadata": {
  "kernelspec": {
   "display_name": "learn_image_classify",
   "language": "python",
   "name": "python3"
  },
  "language_info": {
   "codemirror_mode": {
    "name": "ipython",
    "version": 3
   },
   "file_extension": ".py",
   "mimetype": "text/x-python",
   "name": "python",
   "nbconvert_exporter": "python",
   "pygments_lexer": "ipython3",
   "version": "3.11.8"
  }
 },
 "nbformat": 4,
 "nbformat_minor": 2
}
